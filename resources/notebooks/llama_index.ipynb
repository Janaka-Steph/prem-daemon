{
 "cells": [
  {
   "cell_type": "code",
   "execution_count": 31,
   "metadata": {},
   "outputs": [],
   "source": [
    "import os\n",
    "\n",
    "from llama_index.vector_stores import RedisVectorStore\n",
    "from llama_index.storage.storage_context import StorageContext\n",
    "from llama_index import VectorStoreIndex, LLMPredictor, Document\n",
    "\n",
    "from langchain.chat_models import ChatOpenAI\n",
    "from langchain.embeddings.openai import OpenAIEmbeddings\n",
    "\n",
    "from llama_index import LangchainEmbedding, ServiceContext\n",
    "\n",
    "os.environ[\"OPENAI_API_KEY\"] = \"random-string\""
   ]
  },
  {
   "cell_type": "code",
   "execution_count": 32,
   "metadata": {},
   "outputs": [],
   "source": [
    "doc1 = Document(text=\"Prem is an easy to use open source AI platform. With Prem you can quickly build privacy preserving AI applications.\")\n",
    "doc2 = Document(text=\"\"\"\n",
    "Prem App\n",
    "\n",
    "An intuitive desktop application designed to effortlessly deploy and self-host Open-Source AI models without exposing sensitive data to third-party.\n",
    "\n",
    "\"\"\")\n",
    "doc3 = Document(text=\"\"\"\n",
    "Prem Benefits\n",
    "\n",
    "Effortless Integration\n",
    "Seamlessly implement machine learning models with the user-friendly interface of OpenAI's API.\n",
    "\n",
    "Ready for the Real World\n",
    "Bypass the complexities of inference optimizations. Prem's got you covered.\n",
    "\n",
    "Rapid Iterations, Instant Results\n",
    "Develop, test, and deploy your models in just minutes.\n",
    "\n",
    "Privacy Above All\n",
    "Your keys, your models. We ensure end-to-end encryption.\n",
    "\n",
    "Comprehensive Documentation\n",
    "Dive into our rich resources and learn how to make the most of Prem.\n",
    "\n",
    "Preserve Your Anonymity\n",
    "Make payments with Bitcoin and Cryptocurrency. It's a permissionless infrastructure, designed for you.\n",
    "\"\"\")"
   ]
  },
  {
   "cell_type": "code",
   "execution_count": 33,
   "metadata": {},
   "outputs": [],
   "source": [
    "# Using vicuna-7b-q4\n",
    "llm_predictor = LLMPredictor(llm=ChatOpenAI(openai_api_base=\"http://localhost:8111/api/v1\", max_tokens=128))\n",
    "\n",
    "# Using sentence transformers all-MiniLM-L6-v2\n",
    "embeddings = OpenAIEmbeddings(openai_api_base=\"http://localhost:8444/api/v1\")\n",
    "\n",
    "embed_model = LangchainEmbedding(embeddings)\n",
    "service_context = ServiceContext.from_defaults(embed_model=embed_model, llm_predictor=llm_predictor)\n",
    "\n",
    "vector_store = RedisVectorStore(\n",
    "    index_name=\"prem_landing\",\n",
    "    index_prefix=\"llama\",\n",
    "    redis_url=\"redis://localhost:6379\",\n",
    "    overwrite=True\n",
    ")\n",
    "storage_context = StorageContext.from_defaults(vector_store=vector_store)\n",
    "prem_index = VectorStoreIndex.from_documents(\n",
    "    [doc1, doc2, doc3], storage_context=storage_context, service_context=service_context)"
   ]
  },
  {
   "cell_type": "code",
   "execution_count": 34,
   "metadata": {},
   "outputs": [
    {
     "name": "stdout",
     "output_type": "stream",
     "text": [
      " The benefits of using Prem include: Effortless Integration, Ready for the Real World, Rapid Iterations, Instant Results, Privacy Above All, Comprehensive Documentation, Preserve Your Anonymity, and an intuitive desktop application designed to effortlessly deploy and self-host Open-Source AI models without exposing sensitive data to third-party.\n"
     ]
    }
   ],
   "source": [
    "query_engine = prem_index.as_query_engine()\n",
    "response = query_engine.query(\"What are Prem benefits?\")\n",
    "print(response)"
   ]
  },
  {
   "cell_type": "code",
   "execution_count": null,
   "metadata": {},
   "outputs": [],
   "source": []
  }
 ],
 "metadata": {
  "kernelspec": {
   "display_name": "venv",
   "language": "python",
   "name": "python3"
  },
  "language_info": {
   "codemirror_mode": {
    "name": "ipython",
    "version": 3
   },
   "file_extension": ".py",
   "mimetype": "text/x-python",
   "name": "python",
   "nbconvert_exporter": "python",
   "pygments_lexer": "ipython3",
   "version": "3.10.12"
  },
  "orig_nbformat": 4
 },
 "nbformat": 4,
 "nbformat_minor": 2
}
