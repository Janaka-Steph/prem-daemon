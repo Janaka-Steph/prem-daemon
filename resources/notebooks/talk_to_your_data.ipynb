{
 "cells": [
  {
   "cell_type": "code",
   "execution_count": 2,
   "metadata": {},
   "outputs": [],
   "source": [
    "import os\n",
    "\n",
    "from langchain.chains import LLMChain\n",
    "from langchain.chat_models import ChatOpenAI\n",
    "from langchain.embeddings.openai import OpenAIEmbeddings\n",
    "from langchain.docstore.document import Document\n",
    "from langchain.vectorstores import Qdrant\n",
    "from langchain.vectorstores.redis import Redis\n",
    "from langchain.prompts import PromptTemplate\n",
    "\n",
    "os.environ[\"OPENAI_API_KEY\"] = \"random-string\""
   ]
  },
  {
   "attachments": {},
   "cell_type": "markdown",
   "metadata": {},
   "source": [
    "### Some Content from Prem Landing Page"
   ]
  },
  {
   "cell_type": "code",
   "execution_count": 3,
   "metadata": {},
   "outputs": [],
   "source": [
    "doc1 = Document(page_content=\"Prem is an easy to use open source AI platform. With Prem you can quickly build provacy preserving AI applications.\")\n",
    "doc2 = Document(page_content=\"\"\"\n",
    "Prem App\n",
    "\n",
    "An intuitive desktop application designed to effortlessly deploy and self-host Open-Source AI models without exposing sensitive data to third-party.\n",
    "\n",
    "\"\"\")\n",
    "doc3 = Document(page_content=\"\"\"\n",
    "Prem Benefits\n",
    "\n",
    "Effortless Integration\n",
    "Seamlessly implement machine learning models with the user-friendly interface of OpenAI's API.\n",
    "\n",
    "Ready for the Real World\n",
    "Bypass the complexities of inference optimizations. Prem's got you covered.\n",
    "\n",
    "Rapid Iterations, Instant Results\n",
    "Develop, test, and deploy your models in just minutes.\n",
    "\n",
    "Privacy Above All\n",
    "Your keys, your models. We ensure end-to-end encryption.\n",
    "\n",
    "Comprehensive Documentation\n",
    "Dive into our rich resources and learn how to make the most of Prem.\n",
    "\n",
    "Preserve Your Anonymity\n",
    "Make payments with Bitcoin and Cryptocurrency. It's a permissionless infrastructure, designed for you.\n",
    "\"\"\")"
   ]
  },
  {
   "attachments": {},
   "cell_type": "markdown",
   "metadata": {},
   "source": [
    "### Using QDrant, Vicuna and Sentence Transformers Running Locally using Prem"
   ]
  },
  {
   "cell_type": "code",
   "execution_count": 4,
   "metadata": {},
   "outputs": [
    {
     "name": "stdout",
     "output_type": "stream",
     "text": [
      "\n",
      "Prem Benefits\n",
      "\n",
      "Effortless Integration\n",
      "Seamlessly implement machine learning models with the user-friendly interface of OpenAI's API.\n",
      "\n",
      "Ready for the Real World\n",
      "Bypass the complexities of inference optimizations. Prem's got you covered.\n",
      "\n",
      "Rapid Iterations, Instant Results\n",
      "Develop, test, and deploy your models in just minutes.\n",
      "\n",
      "Privacy Above All\n",
      "Your keys, your models. We ensure end-to-end encryption.\n",
      "\n",
      "Comprehensive Documentation\n",
      "Dive into our rich resources and learn how to make the most of Prem.\n",
      "\n",
      "Preserve Your Anonymity\n",
      "Make payments with Bitcoin and Cryptocurrency. It's a permissionless infrastructure, designed for you.\n",
      "\n"
     ]
    }
   ],
   "source": [
    "# Using vicuna-7b-q4\n",
    "chat = ChatOpenAI(openai_api_base=\"http://localhost:8111/v1\", max_tokens=128)\n",
    "\n",
    "# Using sentence transformers all-MiniLM-L6-v2\n",
    "embeddings = OpenAIEmbeddings(openai_api_base=\"http://localhost:8444/v1\")\n",
    "\n",
    "# Using locally running Qdrant\n",
    "url = \"http://localhost:6333\"\n",
    "\n",
    "vectorstore = Qdrant.from_documents(\n",
    "    [doc1, doc2, doc3], \n",
    "    embeddings, \n",
    "    url=url, \n",
    "    collection_name=\"prem_collection_test\",\n",
    ")\n",
    "\n",
    "query = \"What are Prem Benefits?\"\n",
    "docs = vectorstore.similarity_search(query)\n",
    "print(docs[0].page_content)"
   ]
  },
  {
   "cell_type": "code",
   "execution_count": 5,
   "metadata": {},
   "outputs": [
    {
     "name": "stdout",
     "output_type": "stream",
     "text": [
      "\n",
      "\n",
      "\u001b[1m> Entering new LLMChain chain...\u001b[0m\n",
      "Prompt after formatting:\n",
      "\u001b[32;1m\u001b[1;3m\n",
      "You are an AI assistant for answering questions about Prem.\n",
      "Provide a conversational answer to the question based on the following docouments found using semantic search. Be original, concice, accurate and helpful.\n",
      "\n",
      "Question: What are Prem Benefits?\n",
      "=========\n",
      "Context: \n",
      "Prem Benefits\n",
      "\n",
      "Effortless Integration\n",
      "Seamlessly implement machine learning models with the user-friendly interface of OpenAI's API.\n",
      "\n",
      "Ready for the Real World\n",
      "Bypass the complexities of inference optimizations. Prem's got you covered.\n",
      "\n",
      "Rapid Iterations, Instant Results\n",
      "Develop, test, and deploy your models in just minutes.\n",
      "\n",
      "Privacy Above All\n",
      "Your keys, your models. We ensure end-to-end encryption.\n",
      "\n",
      "Comprehensive Documentation\n",
      "Dive into our rich resources and learn how to make the most of Prem.\n",
      "\n",
      "Preserve Your Anonymity\n",
      "Make payments with Bitcoin and Cryptocurrency. It's a permissionless infrastructure, designed for you.\n",
      "\n",
      "=========\n",
      "Answer in Markdown:\n",
      "\u001b[0m\n",
      "\n",
      "\u001b[1m> Finished chain.\u001b[0m\n"
     ]
    },
    {
     "data": {
      "text/plain": [
       "'\\nPrem is an AI-powered platform that provides effortless integration of machine learning models with the OpenAI API, making it easy to use for developers. It also offers rapid iterations and instant results, as well as privacy, security, and comprehensive documentation. Additionally, Prem allows for payment using Bitcoin and Cryptocurrency, preserving your anonymity.'"
      ]
     },
     "execution_count": 5,
     "metadata": {},
     "output_type": "execute_result"
    }
   ],
   "source": [
    "template = \"\"\"\n",
    "You are an AI assistant for answering questions about Prem.\n",
    "Provide a conversational answer to the question based on the following docouments found using semantic search. Be original, concice, accurate and helpful.\n",
    "\n",
    "Question: {question}\n",
    "=========\n",
    "Context: {context}\n",
    "=========\n",
    "Answer in Markdown:\n",
    "\"\"\"  # noqa E501\n",
    "prompt = PromptTemplate(\n",
    "    input_variables=[\"question\", \"context\"],\n",
    "    template=template,\n",
    ")\n",
    "chain = LLMChain(llm=chat, prompt=prompt, verbose=True)\n",
    "\n",
    "question = \"What are Prem Benefits?\"\n",
    "docs = vectorstore.similarity_search(question)\n",
    "context = docs[0].page_content\n",
    "chain.run(question=question, context=context)"
   ]
  },
  {
   "attachments": {},
   "cell_type": "markdown",
   "metadata": {},
   "source": [
    "### Example using Redis instead of Qdrant"
   ]
  },
  {
   "cell_type": "code",
   "execution_count": 33,
   "metadata": {},
   "outputs": [
    {
     "name": "stdout",
     "output_type": "stream",
     "text": [
      "\n",
      "Prem Benefits\n",
      "\n",
      "Effortless Integration\n",
      "Seamlessly implement machine learning models with the user-friendly interface of OpenAI's API.\n",
      "\n",
      "Ready for the Real World\n",
      "Bypass the complexities of inference optimizations. Prem's got you covered.\n",
      "\n",
      "Rapid Iterations, Instant Results\n",
      "Develop, test, and deploy your models in just minutes.\n",
      "\n",
      "Privacy Above All\n",
      "Your keys, your models. We ensure end-to-end encryption.\n",
      "\n",
      "Comprehensive Documentation\n",
      "Dive into our rich resources and learn how to make the most of Prem.\n",
      "\n",
      "Preserve Your Anonymity\n",
      "Make payments with Bitcoin and Cryptocurrency. It's a permissionless infrastructure, designed for you.\n",
      "\n"
     ]
    }
   ],
   "source": [
    "# Using vicuna-7b-q4\n",
    "chat = ChatOpenAI(openai_api_base=\"http://localhost:8001/v1\", max_tokens=128)\n",
    "\n",
    "# Using sentence transformers all-MiniLM-L6-v2\n",
    "embeddings = OpenAIEmbeddings(openai_api_base=\"http://localhost:8000/v1\")\n",
    "\n",
    "# Using locally running Redis\n",
    "url = \"redis://localhost:6379\"\n",
    "\n",
    "rds = Redis.from_documents(docs, embeddings, redis_url=url,  index_name=\"prem_index_test\")\n",
    "\n",
    "query = \"What are Prem Benefits?\"\n",
    "docs = vectorstore.similarity_search(query)\n",
    "print(docs[0].page_content)"
   ]
  },
  {
   "cell_type": "code",
   "execution_count": 34,
   "metadata": {},
   "outputs": [
    {
     "name": "stdout",
     "output_type": "stream",
     "text": [
      "\n",
      "\n",
      "\u001b[1m> Entering new LLMChain chain...\u001b[0m\n",
      "Prompt after formatting:\n",
      "\u001b[32;1m\u001b[1;3m\n",
      "You are an AI assistant for answering questions about Prem.\n",
      "Provide a conversational answer to the question based on the following docouments found using semantic search. Be original, concice, accurate and helpful.\n",
      "\n",
      "Question: What are Prem Benefits?\n",
      "=========\n",
      "Context: \n",
      "Prem Benefits\n",
      "\n",
      "Effortless Integration\n",
      "Seamlessly implement machine learning models with the user-friendly interface of OpenAI's API.\n",
      "\n",
      "Ready for the Real World\n",
      "Bypass the complexities of inference optimizations. Prem's got you covered.\n",
      "\n",
      "Rapid Iterations, Instant Results\n",
      "Develop, test, and deploy your models in just minutes.\n",
      "\n",
      "Privacy Above All\n",
      "Your keys, your models. We ensure end-to-end encryption.\n",
      "\n",
      "Comprehensive Documentation\n",
      "Dive into our rich resources and learn how to make the most of Prem.\n",
      "\n",
      "Preserve Your Anonymity\n",
      "Make payments with Bitcoin and Cryptocurrency. It's a permissionless infrastructure, designed for you.\n",
      "\n",
      "=========\n",
      "Answer in Markdown:\n",
      "\u001b[0m\n",
      "\n",
      "\u001b[1m> Finished chain.\u001b[0m\n"
     ]
    },
    {
     "data": {
      "text/plain": [
       "'\\nPrem is an AI-powered API that allows developers to easily integrate machine learning models into their applications. With Prem, developers can bypass the complexities of inference optimizations and develop, test, and deploy their models in just minutes. Additionally, Prem offers end-to-end encryption for data privacy, comprehensive documentation for learning how to make the most of the platform, and support for making payments with Bitcoin and Cryptocurrency.'"
      ]
     },
     "execution_count": 34,
     "metadata": {},
     "output_type": "execute_result"
    }
   ],
   "source": [
    "template = \"\"\"\n",
    "You are an AI assistant for answering questions about Prem.\n",
    "Provide a conversational answer to the question based on the following docouments found using semantic search. Be original, concice, accurate and helpful.\n",
    "\n",
    "Question: {question}\n",
    "=========\n",
    "Context: {context}\n",
    "=========\n",
    "Answer in Markdown:\n",
    "\"\"\"  # noqa E501\n",
    "prompt = PromptTemplate(\n",
    "    input_variables=[\"question\", \"context\"],\n",
    "    template=template,\n",
    ")\n",
    "chain = LLMChain(llm=chat, prompt=prompt, verbose=True)\n",
    "\n",
    "question = \"What are Prem Benefits?\"\n",
    "docs = vectorstore.similarity_search(question)\n",
    "context = docs[0].page_content\n",
    "chain.run(question=question, context=context)"
   ]
  },
  {
   "cell_type": "code",
   "execution_count": null,
   "metadata": {},
   "outputs": [],
   "source": []
  }
 ],
 "metadata": {
  "kernelspec": {
   "display_name": "venv",
   "language": "python",
   "name": "python3"
  },
  "language_info": {
   "codemirror_mode": {
    "name": "ipython",
    "version": 3
   },
   "file_extension": ".py",
   "mimetype": "text/x-python",
   "name": "python",
   "nbconvert_exporter": "python",
   "pygments_lexer": "ipython3",
   "version": "3.10.12"
  },
  "orig_nbformat": 4
 },
 "nbformat": 4,
 "nbformat_minor": 2
}
