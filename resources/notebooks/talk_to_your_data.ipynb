{
 "cells": [
  {
   "cell_type": "code",
   "execution_count": 25,
   "metadata": {},
   "outputs": [],
   "source": [
    "import os\n",
    "\n",
    "from langchain.chains import LLMChain\n",
    "from langchain.chat_models import ChatOpenAI\n",
    "from langchain.embeddings.openai import OpenAIEmbeddings\n",
    "from langchain.docstore.document import Document\n",
    "from langchain.vectorstores import Qdrant\n",
    "from langchain.prompts import PromptTemplate\n",
    "\n",
    "os.environ[\"OPENAI_API_KEY\"] = \"random-string\""
   ]
  },
  {
   "cell_type": "code",
   "execution_count": 26,
   "metadata": {},
   "outputs": [],
   "source": [
    "doc1 = Document(page_content=\"Prem is an easy to use open source AI platform. With Prem you can quickly build provacy preserving AI applications.\")\n",
    "doc2 = Document(page_content=\"\"\"\n",
    "Prem App\n",
    "\n",
    "An intuitive desktop application designed to effortlessly deploy and self-host Open-Source AI models without exposing sensitive data to third-party.\n",
    "\n",
    "\"\"\")\n",
    "doc3 = Document(page_content=\"\"\"\n",
    "Prem Benefits\n",
    "\n",
    "Effortless Integration\n",
    "Seamlessly implement machine learning models with the user-friendly interface of OpenAI's API.\n",
    "\n",
    "Ready for the Real World\n",
    "Bypass the complexities of inference optimizations. Prem's got you covered.\n",
    "\n",
    "Rapid Iterations, Instant Results\n",
    "Develop, test, and deploy your models in just minutes.\n",
    "\n",
    "Privacy Above All\n",
    "Your keys, your models. We ensure end-to-end encryption.\n",
    "\n",
    "Comprehensive Documentation\n",
    "Dive into our rich resources and learn how to make the most of Prem.\n",
    "\n",
    "Preserve Your Anonymity\n",
    "Make payments with Bitcoin and Cryptocurrency. It's a permissionless infrastructure, designed for you.\n",
    "\"\"\")"
   ]
  },
  {
   "cell_type": "code",
   "execution_count": 27,
   "metadata": {},
   "outputs": [
    {
     "name": "stdout",
     "output_type": "stream",
     "text": [
      "\n",
      "Prem Benefits\n",
      "\n",
      "Effortless Integration\n",
      "Seamlessly implement machine learning models with the user-friendly interface of OpenAI's API.\n",
      "\n",
      "Ready for the Real World\n",
      "Bypass the complexities of inference optimizations. Prem's got you covered.\n",
      "\n",
      "Rapid Iterations, Instant Results\n",
      "Develop, test, and deploy your models in just minutes.\n",
      "\n",
      "Privacy Above All\n",
      "Your keys, your models. We ensure end-to-end encryption.\n",
      "\n",
      "Comprehensive Documentation\n",
      "Dive into our rich resources and learn how to make the most of Prem.\n",
      "\n",
      "Preserve Your Anonymity\n",
      "Make payments with Bitcoin and Cryptocurrency. It's a permissionless infrastructure, designed for you.\n",
      "\n"
     ]
    }
   ],
   "source": [
    "# Using vicuna-7b-q4\n",
    "chat = ChatOpenAI(openai_api_base=\"http://localhost:8001/api/v1\", max_tokens=128)\n",
    "\n",
    "# Using sentence transformers all-MiniLM-L6-v2\n",
    "embeddings = OpenAIEmbeddings(openai_api_base=\"http://localhost:8000/api/v1\")\n",
    "\n",
    "# Using locally running Qdrant\n",
    "url = \"http://localhost:6333\"\n",
    "\n",
    "vectorstore = Qdrant.from_documents(\n",
    "    [doc1, doc2, doc3], \n",
    "    embeddings, \n",
    "    url=url, \n",
    "    collection_name=\"prem_collection_test\",\n",
    ")\n",
    "\n",
    "query = \"What are Prem Benefits?\"\n",
    "docs = vectorstore.similarity_search(query)\n",
    "print(docs[0].page_content)"
   ]
  },
  {
   "cell_type": "code",
   "execution_count": 28,
   "metadata": {},
   "outputs": [
    {
     "name": "stdout",
     "output_type": "stream",
     "text": [
      "\n",
      "\n",
      "\u001b[1m> Entering new LLMChain chain...\u001b[0m\n",
      "Prompt after formatting:\n",
      "\u001b[32;1m\u001b[1;3m\n",
      "You are an AI assistant for answering questions about Prem.\n",
      "Provide a conversational answer to the question based on the following docouments found using semantic search. Be original, concice, accurate and helpful.\n",
      "\n",
      "Question: What are Prem Benefits?\n",
      "=========\n",
      "Context: \n",
      "Prem Benefits\n",
      "\n",
      "Effortless Integration\n",
      "Seamlessly implement machine learning models with the user-friendly interface of OpenAI's API.\n",
      "\n",
      "Ready for the Real World\n",
      "Bypass the complexities of inference optimizations. Prem's got you covered.\n",
      "\n",
      "Rapid Iterations, Instant Results\n",
      "Develop, test, and deploy your models in just minutes.\n",
      "\n",
      "Privacy Above All\n",
      "Your keys, your models. We ensure end-to-end encryption.\n",
      "\n",
      "Comprehensive Documentation\n",
      "Dive into our rich resources and learn how to make the most of Prem.\n",
      "\n",
      "Preserve Your Anonymity\n",
      "Make payments with Bitcoin and Cryptocurrency. It's a permissionless infrastructure, designed for you.\n",
      "\n",
      "=========\n",
      "Answer in Markdown:\n",
      "\u001b[0m\n",
      "\n",
      "\u001b[1m> Finished chain.\u001b[0m\n"
     ]
    },
    {
     "data": {
      "text/plain": [
       "'\\nPrem is an API that makes it easy to integrate machine learning models into your projects. With its user-friendly interface, you can seamlessly incorporate state-of-the-art models from OpenAI, without having to deal with the complexities of inference optimizations. Additionally, Prem enables rapid iterations and instant results, so you can develop, test, and deploy your models in just minutes.\\n\\nPrivacy is a top priority for Prem, as your keys and models are fully encrypted. The platform also provides comprehensive documentation to help you make the most of its capabilities. You can preserve your anonym'"
      ]
     },
     "execution_count": 28,
     "metadata": {},
     "output_type": "execute_result"
    }
   ],
   "source": [
    "template = \"\"\"\n",
    "You are an AI assistant for answering questions about Prem.\n",
    "Provide a conversational answer to the question based on the following docouments found using semantic search. Be original, concice, accurate and helpful.\n",
    "\n",
    "Question: {question}\n",
    "=========\n",
    "Context: {context}\n",
    "=========\n",
    "Answer in Markdown:\n",
    "\"\"\"  # noqa E501\n",
    "prompt = PromptTemplate(\n",
    "    input_variables=[\"question\", \"context\"],\n",
    "    template=template,\n",
    ")\n",
    "chain = LLMChain(llm=chat, prompt=prompt, verbose=True)\n",
    "\n",
    "question = \"What are Prem Benefits?\"\n",
    "docs = vectorstore.similarity_search(question)\n",
    "context = docs[0].page_content\n",
    "chain.run(question=question, context=context)"
   ]
  },
  {
   "cell_type": "code",
   "execution_count": null,
   "metadata": {},
   "outputs": [],
   "source": []
  }
 ],
 "metadata": {
  "kernelspec": {
   "display_name": "venv",
   "language": "python",
   "name": "python3"
  },
  "language_info": {
   "codemirror_mode": {
    "name": "ipython",
    "version": 3
   },
   "file_extension": ".py",
   "mimetype": "text/x-python",
   "name": "python",
   "nbconvert_exporter": "python",
   "pygments_lexer": "ipython3",
   "version": "3.10.11"
  },
  "orig_nbformat": 4
 },
 "nbformat": 4,
 "nbformat_minor": 2
}
